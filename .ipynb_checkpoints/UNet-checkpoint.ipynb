{
 "cells": [
  {
   "cell_type": "code",
   "execution_count": 95,
   "metadata": {},
   "outputs": [],
   "source": [
    "import SimpleITK as sitk\n",
    "import numpy as np\n",
    "import csv\n",
    "import os\n",
    "import matplotlib.pyplot as plt\n",
    "%matplotlib inline \n",
    "from PIL import Image\n",
    "from sklearn.cluster import KMeans\n",
    "from skimage.morphology import binary_erosion, binary_dilation, binary_opening, binary_closing\n",
    "from skimage.measure import regionprops, label\n",
    "import re\n",
    "import pandas as pd\n",
    "from tempfile import TemporaryFile"
   ]
  },
  {
   "cell_type": "code",
   "execution_count": 96,
   "metadata": {},
   "outputs": [],
   "source": [
    "'''\n",
    "Partitions the folder downloaded into smaller ones, which is easier to handle.\n",
    "EX: ~/.../subset0/img.mhd -> ~/.../subset0/0/img.mhd\n",
    "n_files: max number of files in a folder (the /0/ maximum)\n",
    "'''\n",
    "\n",
    "def split_dir(d, n_files = 8):\n",
    "    lst_files = []\n",
    "    file_c = 0\n",
    "    c = 0\n",
    "    new_dir = d\n",
    "    for file in os.listdir(d):\n",
    "        if re.search('.mhd$', file) or re.search('.raw$', file):\n",
    "            lst_files.append(file)\n",
    "    for file in sorted(lst_files):\n",
    "        if c == 2 * n_files or file_c == 0: # EVEN to group the .raw and .mhd files in same directory\n",
    "            new_dir = d + str(file_c) + '/'\n",
    "            os.makedirs(new_dir, 0o755, exist_ok = True)\n",
    "            c = 0\n",
    "            file_c += 1\n",
    "        os.rename(d + file, new_dir + file)\n",
    "        c += 1"
   ]
  },
  {
   "cell_type": "code",
   "execution_count": 97,
   "metadata": {},
   "outputs": [],
   "source": [
    "split_dir('/Users/kanetian7/LUNA16/data/subset0/')"
   ]
  },
  {
   "cell_type": "code",
   "execution_count": 98,
   "metadata": {},
   "outputs": [],
   "source": [
    "'''\n",
    "Initial processing functions.\n",
    "'''\n",
    "\n",
    "# load in SimpleITK .mhd file as numpy array\n",
    "def load_img(filename):\n",
    "    itkimage = sitk.ReadImage(filename)\n",
    "    numpy_image = sitk.GetArrayFromImage(itkimage) # z, y, x...\n",
    "    numpy_origin = np.array(itkimage.GetOrigin()) # x, y, z...\n",
    "    numpy_spacing = np.array(itkimage.GetSpacing())\n",
    "    return numpy_image, numpy_origin, numpy_spacing\n",
    "\n",
    "# normalize image\n",
    "def normalize(img):\n",
    "    mean = np.mean(img)\n",
    "    std = np.std(img)\n",
    "    return (img - mean)/std\n",
    "\n",
    "# show distribution of intensity\n",
    "def distribution(normalize_img):\n",
    "    plt.hist(normalize_img.flatten(), bins = 200)\n",
    "    plt.show()"
   ]
  },
  {
   "cell_type": "code",
   "execution_count": 99,
   "metadata": {},
   "outputs": [],
   "source": [
    "'''\n",
    "Convert norm_img to an image (numpy array) with only 1s and 0s.\n",
    "1s = initial lungs regions + noise\n",
    "0s = background/non-lung tissue + noise\n",
    "PRECONDITION: norm_img is a normalized numpy array\n",
    "'''\n",
    "\n",
    "def convert_binary(norm_img):\n",
    "    # move outliers of images with the extra background circle to \n",
    "    # intensity that won't affect kmeans significantly\n",
    "    minimum = np.min(norm_img)\n",
    "    norm_img[norm_img == minimum] = np.median(norm_img)\n",
    "    \n",
    "    print('kmeans is starting')\n",
    "    # empirical values but haven't really tested thoroughly, kmeans takes too long\n",
    "    kmeans = KMeans(n_clusters = 2, random_state = 0, n_init = 1, max_iter = 1).fit(norm_img.flatten().reshape(-1, 1))\n",
    "    print('kmeans is done')\n",
    "    \n",
    "    # convert image to 1s and 0s based on threshold\n",
    "    centers = np.sort(kmeans.cluster_centers_.flatten())\n",
    "    thresh = (centers[0] + centers[1]) / 2\n",
    "    bin_img = np.where(norm_img < thresh, 1.0, 0.0)\n",
    "    return bin_img  "
   ]
  },
  {
   "cell_type": "code",
   "execution_count": 100,
   "metadata": {},
   "outputs": [],
   "source": [
    "'''\n",
    "Removes noise regions from bin_img through erosion and then dilation. \n",
    "PRECONDITION: bin_img is binary numpy array\n",
    "'''\n",
    "\n",
    "def make_regions(bin_img):\n",
    "    for s in range(bin_img.shape[0]):\n",
    "        s1 = bin_img[s,:,:]\n",
    "        s2 = binary_erosion(s1, selem = np.ones([2, 2]))  # empirically determined\n",
    "        bin_img[s,:,:] = binary_dilation(s2, selem = np.ones([8, 8])) # empirically determined\n",
    "    return bin_img"
   ]
  },
  {
   "cell_type": "code",
   "execution_count": 101,
   "metadata": {},
   "outputs": [],
   "source": [
    "'''\n",
    "Isolates the lung regions and makes a binary mask over them.\n",
    "1s = lung regions\n",
    "0s = non-lung regions\n",
    "PRECONDITION: reg_img is a non-noisy binary image\n",
    "'''\n",
    "\n",
    "def make_mask(reg_img):\n",
    "    mask = np.zeros(reg_img.shape)\n",
    "    for s in range(reg_img.shape[0]):\n",
    "        # a slice in the 3D reg_img\n",
    "        s1 = reg_img[s,:,:]\n",
    "        props = regionprops(label(s1))\n",
    "        labels = []\n",
    "        for p in props:\n",
    "            B = p.bbox\n",
    "            # empirically determined, region has to be within confines and large enough\n",
    "            if (B[0] > 10 and B[2] < 500 and B[1] > 10 and \n",
    "                B[3] < 500 and B[2] - B[0] > 50 and B[3] - B[1] > 50):\n",
    "                labels.append(p.label)\n",
    "        for l in labels:\n",
    "            mask[s, :, :] = mask[s, :, :] + np.where(label(s1) == l, 1, 0)\n",
    "    return mask\n",
    "\n",
    "# m = make_mask(x)"
   ]
  },
  {
   "cell_type": "code",
   "execution_count": 102,
   "metadata": {},
   "outputs": [],
   "source": [
    "'''\n",
    "Applies the mask to the original, non-normalized image. \n",
    "Renormalizes using significant regions only, which is desired.\n",
    "PRECONDITION: mask is original's corresponding mask\n",
    "'''\n",
    "\n",
    "def mask_on_orig(original, mask):\n",
    "    new_img = original * mask\n",
    "    \n",
    "    mean = np.mean(original[mask > 0])\n",
    "    std = np.std(original[mask > 0])\n",
    "    new_img = (new_img - mean)/std\n",
    "    # set non-lung regions to -5, which is logical since it's highly unlikely to interfere\n",
    "    new_img[mask==0] = -5 \n",
    "    return new_img"
   ]
  },
  {
   "cell_type": "code",
   "execution_count": 103,
   "metadata": {},
   "outputs": [],
   "source": [
    "'''\n",
    "Uses previous methods to process through a whole image.\n",
    "Returns the masked image and (origin and spacing) from SimpleITK\n",
    "'''\n",
    "\n",
    "def process_img(filename):\n",
    "    img, origin, spacing = load_img(filename)\n",
    "    norm_img = normalize(img)\n",
    "    bin_img = convert_binary(norm_img)\n",
    "    reg_img = make_regions(bin_img)\n",
    "    mask = make_mask(reg_img)\n",
    "    masked_img = mask_on_orig(img, mask)\n",
    "    \n",
    "    return masked_img, origin, spacing"
   ]
  },
  {
   "cell_type": "code",
   "execution_count": 110,
   "metadata": {},
   "outputs": [],
   "source": [
    "'''\n",
    "Processes all LUNA files in a directory:\n",
    "    - creates a new directory on the same level as the directory of images\n",
    "    - uses process_img to get the masked image, origin, spacing for each image\n",
    "    - stores the masked image array into a text file in the new directory\n",
    "    - stores the origin, spacing coordinates, size of array into a csv file in out_meta\n",
    "'''\n",
    "\n",
    "def process_dir(d, out_dir, out_meta = '/Users/kanetian7/LUNA16/data/meta.csv'):\n",
    "    os.makedirs(out_dir, 0o755, exist_ok = True)\n",
    "    \n",
    "    originsZ = []\n",
    "    originsY = []\n",
    "    originsX = []\n",
    "    spacingsZ = []\n",
    "    spacingsY = []\n",
    "    spacingsX = []\n",
    "    names = []\n",
    "    zDim = []\n",
    "    yDim = []\n",
    "    xDim = []\n",
    "    df = pd.read_csv(out_meta)\n",
    "    \n",
    "    for file in os.listdir(d):\n",
    "        if re.search('.mhd$', file):\n",
    "            print(file + ' is processing')\n",
    "            img, origin, spacing = process_img(d + file)\n",
    "            img.tofile(out_dir + 'p_' + re.split('.mhd$', file)[0] + '.txt', sep = ',')\n",
    "            \n",
    "            originsZ.append(origin[2])\n",
    "            originsY.append(origin[1])\n",
    "            originsX.append(origin[0])\n",
    "            spacingsZ.append(spacing[2])\n",
    "            spacingsY.append(spacing[1])\n",
    "            spacingsX.append(spacing[0])\n",
    "            zDim.append(img.shape[0])\n",
    "            yDim.append(img.shape[1])\n",
    "            xDim.append(img.shape[2])\n",
    "            names.append(re.split('.mhd$', file)[0])\n",
    "            # visualize a slice to make sure mask is generated correctly\n",
    "            plt.imshow(img[int(0.5 * img.shape[0]), 0:512, 0:512])\n",
    "            plt.show()\n",
    "            print(file + ' is done')\n",
    "            \n",
    "    new = pd.DataFrame({'Name': names, 'OriginZ': originsZ, 'OriginY': originsY, 'OriginX': originsX,\n",
    "                        'SpacingZ': spacingsZ, 'SpacingY': spacingsY, 'SpacingX': spacingsX, \n",
    "                        'zDim': zDim, 'yDim': yDim, 'xDim': xDim})\n",
    "    df = pd.concat([df, new], axis = 0).reset_index(drop=True)\n",
    "    df.to_csv(out_meta)"
   ]
  },
  {
   "cell_type": "code",
   "execution_count": null,
   "metadata": {},
   "outputs": [
    {
     "name": "stdout",
     "output_type": "stream",
     "text": [
      "1.3.6.1.4.1.14519.5.2.1.6279.6001.124154461048929153767743874565.mhd is processing\n",
      "kmeans is starting\n",
      "kmeans is done\n"
     ]
    },
    {
     "data": {
      "image/png": "[encoded data removed]",
      "text/plain": [
       "<Figure size 432x288 with 1 Axes>"
      ]
     },
     "metadata": {},
     "output_type": "display_data"
    },
    {
     "name": "stdout",
     "output_type": "stream",
     "text": [
      "1.3.6.1.4.1.14519.5.2.1.6279.6001.124154461048929153767743874565.mhd is done\n",
      "1.3.6.1.4.1.14519.5.2.1.6279.6001.126264578931778258890371755354.mhd is processing\n"
     ]
    }
   ],
   "source": [
    "process_dir('/Users/kanetian7/LUNA16/data/subset0/0/', '/Users/kanetian7/LUNA16/data/processed0/')"
   ]
  },
  {
   "cell_type": "code",
   "execution_count": null,
   "metadata": {},
   "outputs": [],
   "source": []
  }
 ],
 "metadata": {
  "kernelspec": {
   "display_name": "Python 3",
   "language": "python",
   "name": "python3"
  },
  "language_info": {
   "codemirror_mode": {
    "name": "ipython",
    "version": 3
   },
   "file_extension": ".py",
   "mimetype": "text/x-python",
   "name": "python",
   "nbconvert_exporter": "python",
   "pygments_lexer": "ipython3",
   "version": "3.6.5"
  }
 },
 "nbformat": 4,
 "nbformat_minor": 2
}
