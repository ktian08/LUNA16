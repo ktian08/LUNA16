{
 "cells": [
  {
   "cell_type": "code",
   "execution_count": 2,
   "metadata": {},
   "outputs": [],
   "source": [
    "import SimpleITK as sitk\n",
    "import numpy as np\n",
    "import csv\n",
    "import os\n",
    "import matplotlib.pyplot as plt\n",
    "%matplotlib inline \n",
    "from PIL import Image"
   ]
  },
  {
   "cell_type": "code",
   "execution_count": 3,
   "metadata": {},
   "outputs": [],
   "source": [
    "def load_itk_image(filename):\n",
    "    itkimage = sitk.ReadImage(filename)\n",
    "    numpy_image = sitk.GetArrayFromImage(itkimage)\n",
    "    \n",
    "    numpy_origin = np.array(list(reversed(itkimage.GetOrigin())))\n",
    "    # size of pixels\n",
    "    numpy_spacing = np.array(list(reversed(itkimage.GetSpacing())))\n",
    "    \n",
    "    return numpy_image, numpy_origin, numpy_spacing"
   ]
  },
  {
   "cell_type": "code",
   "execution_count": 10,
   "metadata": {},
   "outputs": [],
   "source": [
    "def readcsv(filename):\n",
    "    lines = []\n",
    "    with open(filename, \"rt\") as f:\n",
    "        csvreader = csv.reader(f)\n",
    "        for line in csvreader:\n",
    "            lines.append(line)\n",
    "    return lines"
   ]
  },
  {
   "cell_type": "code",
   "execution_count": 11,
   "metadata": {},
   "outputs": [],
   "source": [
    "# world coordinates = real-life, voxel = in arrays\n",
    "def world_to_voxel(world_coord, origin, spacing):\n",
    "    # think this is OK due to 2-D nature of images and origin is botLeft?\n",
    "    stretched_voxel_coord = np.absolute(world_coord - origin)\n",
    "    voxel_coord = stretched_voxel_coord / spacing\n",
    "    return voxel_coord"
   ]
  },
  {
   "cell_type": "code",
   "execution_count": 12,
   "metadata": {},
   "outputs": [],
   "source": [
    "def normalize_planes(npzarray):\n",
    "    maxHU = 400.\n",
    "    minHU = -1000.\n",
    "    \n",
    "    npzarray = (npzarray - minHU) / (maxHU - minHU)\n",
    "    npzarray[npzarray > 1] = 1.\n",
    "    npzarray[npzarray < 0] = 0.\n",
    "    return npzarray"
   ]
  },
  {
   "cell_type": "code",
   "execution_count": 27,
   "metadata": {},
   "outputs": [],
   "source": [
    "# visualize patch and save it\n",
    "def preprocess(img_path, cand_path):\n",
    "    numpy_image, numpy_origin, numpy_spacing = load_itk_image(img_path)\n",
    "    print(numpy_image.shape)\n",
    "    print(numpy_origin)\n",
    "    print(numpy_spacing)\n",
    "    \n",
    "    #load candidates (points where nodules are centered)\n",
    "    cands = readcsv(cand_path)\n",
    "    for cand in cands[1:]:\n",
    "        world_coord = np.asarray([float(cand[3]), float(cand[2]), float(cand[1])])\n",
    "        voxel_coord = world_to_voxel(world_coord, numpy_origin, numpy_spacing)\n",
    "        voxel_width = 65\n",
    "        #a rectangle slice of width x depth\n",
    "        patch = numpy_image[int(voxel_coord[0]),\n",
    "                            int(voxel_coord[1]-voxel_width/2):int(voxel_coord[1]+voxel_width/2),\n",
    "                            int(voxel_coord[2]-voxel_width/2):int(voxel_coord[2]+voxel_width/2)]\n",
    "        patch = normalize_planes(patch)\n",
    "        \n",
    "        print(world_coord)\n",
    "        print(voxel_coord)\n",
    "        print(patch)\n",
    "        \n",
    "        output_dir = 'patches/'\n",
    "        plt.imshow(patch, cmap = 'gray')\n",
    "        plt.show()\n",
    "#         Image.fromarray(patch*255).convert('L').save(os.path.join(output_dir, 'patch_' + str(world_coord[0]) + \n",
    "#                            '_' + str(world_coord[1]) + '_' + str(world_coord[2]) + '.tiff'))"
   ]
  },
  {
   "cell_type": "code",
   "execution_count": 28,
   "metadata": {},
   "outputs": [
    {
     "name": "stdout",
     "output_type": "stream",
     "text": [
      "(121, 512, 512)\n",
      "[-335.209991 -195.       -198.100006]\n",
      "[ 2.5         0.76171899  0.76171899]\n",
      "[-288.7   -74.48   68.42]\n",
      "[  18.6039964   158.22107868  349.89282144]\n",
      "[[ 0.67714286  0.815       0.78928571 ...,  0.70071429  0.60928571\n",
      "   0.76928571]\n",
      " [ 0.72785714  0.775       0.71357143 ...,  0.8         0.80142857\n",
      "   0.77285714]\n",
      " [ 0.73071429  0.67642857  0.75071429 ...,  0.75571429  0.78        0.765     ]\n",
      " ..., \n",
      " [ 0.73357143  0.605       0.82142857 ...,  0.71642857  0.76357143\n",
      "   0.65785714]\n",
      " [ 0.78357143  0.70785714  0.88785714 ...,  0.83285714  0.68571429\n",
      "   0.83571429]\n",
      " [ 0.82785714  0.80142857  0.78       ...,  0.8         0.70071429\n",
      "   0.65571429]]\n"
     ]
    },
    {
     "data": {
      "image/png": "[encoded data removed]",
      "text/plain": [
       "<Figure size 432x288 with 1 Axes>"
      ]
     },
     "metadata": {},
     "output_type": "display_data"
    },
    {
     "ename": "NameError",
     "evalue": "name 'outputDir' is not defined",
     "output_type": "error",
     "traceback": [
      "\u001b[0;31m---------------------------------------------------------------------------\u001b[0m",
      "\u001b[0;31mNameError\u001b[0m                                 Traceback (most recent call last)",
      "\u001b[0;32m<ipython-input-28-c2c8e3a58dbb>\u001b[0m in \u001b[0;36m<module>\u001b[0;34m()\u001b[0m\n\u001b[1;32m      1\u001b[0m preprocess('/Users/kanetian7/LUNA16/subset0/1.3.6.1.4.1.14519.5.2.1.6279.6001.105756658031515062000744821260.mhd', \n\u001b[0;32m----> 2\u001b[0;31m                 '/Users/kanetian7/LUNA16/candidates_V2.csv')\n\u001b[0m",
      "\u001b[0;32m<ipython-input-27-f84de70d5d4c>\u001b[0m in \u001b[0;36mpreprocess\u001b[0;34m(img_path, cand_path)\u001b[0m\n\u001b[1;32m     25\u001b[0m         \u001b[0mplt\u001b[0m\u001b[0;34m.\u001b[0m\u001b[0mimshow\u001b[0m\u001b[0;34m(\u001b[0m\u001b[0mpatch\u001b[0m\u001b[0;34m,\u001b[0m \u001b[0mcmap\u001b[0m \u001b[0;34m=\u001b[0m \u001b[0;34m'gray'\u001b[0m\u001b[0;34m)\u001b[0m\u001b[0;34m\u001b[0m\u001b[0m\n\u001b[1;32m     26\u001b[0m         \u001b[0mplt\u001b[0m\u001b[0;34m.\u001b[0m\u001b[0mshow\u001b[0m\u001b[0;34m(\u001b[0m\u001b[0;34m)\u001b[0m\u001b[0;34m\u001b[0m\u001b[0m\n\u001b[0;32m---> 27\u001b[0;31m         Image.fromarray(patch*255).convert('L').save(os.path.join(outputDir, 'patch_' + str(world_coord[0]) + \n\u001b[0m\u001b[1;32m     28\u001b[0m                            '_' + str(world_coord[1]) + '_' + str(world_coord[2]) + '.tiff'))\n",
      "\u001b[0;31mNameError\u001b[0m: name 'outputDir' is not defined"
     ]
    }
   ],
   "source": [
    "preprocess('/Users/kanetian7/LUNA16/subset0/1.3.6.1.4.1.14519.5.2.1.6279.6001.105756658031515062000744821260.mhd', \n",
    "                '/Users/kanetian7/LUNA16/candidates_V2.csv')"
   ]
  },
  {
   "cell_type": "code",
   "execution_count": null,
   "metadata": {},
   "outputs": [],
   "source": []
  }
 ],
 "metadata": {
  "kernelspec": {
   "display_name": "Python 3",
   "language": "python",
   "name": "python3"
  },
  "language_info": {
   "codemirror_mode": {
    "name": "ipython",
    "version": 3
   },
   "file_extension": ".py",
   "mimetype": "text/x-python",
   "name": "python",
   "nbconvert_exporter": "python",
   "pygments_lexer": "ipython3",
   "version": "3.6.5"
  }
 },
 "nbformat": 4,
 "nbformat_minor": 2
}
