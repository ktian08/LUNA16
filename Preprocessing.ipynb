{
 "cells": [
  {
   "cell_type": "code",
   "execution_count": 9,
   "metadata": {},
   "outputs": [],
   "source": [
    "import SimpleITK as sitk\n",
    "import numpy as np\n",
    "import csv\n",
    "import os\n",
    "import matplotlib.pyplot as plt\n",
    "%matplotlib inline \n",
    "from PIL import Image"
   ]
  },
  {
   "cell_type": "code",
   "execution_count": 10,
   "metadata": {},
   "outputs": [],
   "source": [
    "def load_itk_image(filename):\n",
    "    itkimage = sitk.ReadImage(filename)\n",
    "    numpy_image = sitk.GetArrayFromImage(itkimage)\n",
    "    \n",
    "    numpy_origin = np.array(list(reversed(itkimage.GetOrigin())))\n",
    "    # size of pixels\n",
    "    numpy_spacing = np.array(list(reversed(itkimage.GetSpacing())))\n",
    "    \n",
    "    return numpy_image, numpy_origin, numpy_spacing"
   ]
  },
  {
   "cell_type": "code",
   "execution_count": 11,
   "metadata": {},
   "outputs": [],
   "source": [
    "def readcsv(filename):\n",
    "    lines = []\n",
    "    with open(filename, \"rb\") as f:\n",
    "        csvreader = csv.reader(f)\n",
    "        for line in csvreader:\n",
    "            lines.append(line)\n",
    "    return lines"
   ]
  },
  {
   "cell_type": "code",
   "execution_count": 12,
   "metadata": {},
   "outputs": [],
   "source": [
    "# world coordinates = real-life, voxel = in arrays\n",
    "def world_to_voxel(world_coord, origin, spacing):\n",
    "    # think this is OK due to 2-D nature of images and origin is botLeft?\n",
    "    stretched_voxel_coord = np.absolute(world_coord - origin)\n",
    "    voxel_coord = stretched_voxel_coord / spacing\n",
    "    return voxel_coord"
   ]
  },
  {
   "cell_type": "code",
   "execution_count": 13,
   "metadata": {},
   "outputs": [],
   "source": [
    "def normalize_planes(npzarray):\n",
    "    maxHU = 400.\n",
    "    minHU = -1000.\n",
    "    \n",
    "    npzarray = (npzarray - minHU) / (maxHU - minHU)\n",
    "    npzarray[npzarray > 1] = 1.\n",
    "    npzarray[npzarray < 0] = 0.\n",
    "    return npzarray"
   ]
  },
  {
   "cell_type": "code",
   "execution_count": 18,
   "metadata": {},
   "outputs": [],
   "source": [
    "# visualize patch and save it\n",
    "def naive_preprocess(img_path, cand_path):\n",
    "    numpy_image, numpy_origin, numpy_spacing = load_itk_image(img_path)\n",
    "    print(numpy_image.shape)\n",
    "    print(numpy_origin)\n",
    "    print(numpy_spacing)\n",
    "    \n",
    "    #load candidates (points where nodules are centered)\n",
    "    cands = readcsv(cand_path)\n",
    "    for cand in cands[1:]:\n",
    "        world_coord = np.asarray[float(cand[3]), float(cand[2]), float(cand[1])]\n",
    "        voxel_coord = world_to_voxel(world_coord, numpy_origin, numpy_spacing)\n",
    "        voxel_width = 65\n",
    "        #a rectangle slice of width x depth\n",
    "        patch = numpy_image[voxel_coord[0], \n",
    "                            voxel_coord[1]-voxel_width/2 : voxel_coord[1]+voxel_width/2, \n",
    "                            voxel_coord[2]-voxel_width/2 : voxel_coord[2]+voxel_width/2]\n",
    "        patch = normalize_planes(patch)\n",
    "        \n",
    "        print(world_coord)\n",
    "        print(voxel_coord)\n",
    "        print(patch)\n",
    "        \n",
    "        output_dir = 'patches/'\n",
    "        plt.imshow(patch, cmap = 'gray')\n",
    "        plt.show()\n",
    "        Image.fromarray(patch*255).convert('L').save(os.path.join(outputDir, 'patch_' + str(world_coord[0]) + \n",
    "                           '_' + str(world_coord[1]) + '_' + str(world_coord[2]) + '.tiff'))"
   ]
  },
  {
   "cell_type": "code",
   "execution_count": null,
   "metadata": {},
   "outputs": [],
   "source": []
  }
 ],
 "metadata": {
  "kernelspec": {
   "display_name": "Python 3",
   "language": "python",
   "name": "python3"
  },
  "language_info": {
   "codemirror_mode": {
    "name": "ipython",
    "version": 3
   },
   "file_extension": ".py",
   "mimetype": "text/x-python",
   "name": "python",
   "nbconvert_exporter": "python",
   "pygments_lexer": "ipython3",
   "version": "3.6.5"
  }
 },
 "nbformat": 4,
 "nbformat_minor": 2
}
