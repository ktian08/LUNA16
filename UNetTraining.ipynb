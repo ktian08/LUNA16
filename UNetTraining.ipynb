{
 "cells": [
  {
   "cell_type": "code",
   "execution_count": 10,
   "metadata": {},
   "outputs": [],
   "source": [
    "import numpy as np\n",
    "import csv\n",
    "import os\n",
    "import matplotlib.pyplot as plt\n",
    "%matplotlib inline \n",
    "# import re\n",
    "import pandas as pd\n",
    "import gc\n",
    "import time\n",
    "import torch.utils.data as D\n",
    "from torch import from_numpy\n",
    "import torch.nn as nn\n",
    "import torch.nn.functional as F\n",
    "import torch.optim as optim\n",
    "import nbimporter\n",
    "from UNetModel import UNet"
   ]
  },
  {
   "cell_type": "code",
   "execution_count": 11,
   "metadata": {},
   "outputs": [],
   "source": [
    "'''\n",
    "Custom dataset for the processed lung images:\n",
    "    - Takes in the corresponding meta csv file, nodule csv file, and processed img directory\n",
    "    - When getting an item (image), creates the label and returns \n",
    "      a dict with the image as a tensor and label as a tensor\n",
    "'''\n",
    "class LungsDataset(D.Dataset):\n",
    "    def __init__(self, meta_file, nodule_file, img_dir):\n",
    "        self.meta = pd.read_csv(meta_file)\n",
    "        self.cands = pd.read_csv(nodule_file)\n",
    "        self.img_dir = img_dir\n",
    "        \n",
    "    def __len__(self):\n",
    "        return len(self.meta)\n",
    "    \n",
    "    def __getitem__(self, idx):\n",
    "        row = self.meta.iloc[0]\n",
    "        \n",
    "        # meta information for the scan\n",
    "        name = row['Name']\n",
    "        originX = row['OriginX']\n",
    "        originY = row['OriginY']\n",
    "        originZ = row['OriginZ']\n",
    "        spacingX = row['SpacingX']\n",
    "        spacingY = row['SpacingY']\n",
    "        spacingZ = row['SpacingZ']\n",
    "\n",
    "        # nodules for each scan\n",
    "        nodules = self.cands[self.cands['seriesuid'] == name][['coordX', 'coordY', 'coordZ']]\n",
    "        nodules['coordX'] = ((nodules['coordX'] - originX)/spacingX).astype(int)\n",
    "        nodules['coordY'] = ((nodules['coordY'] - originY)/spacingY).astype(int)\n",
    "        nodules['coordZ'] = ((nodules['coordZ'] - originZ)/spacingZ).astype(int)\n",
    "        \n",
    "        # processed image (numpy array)\n",
    "        for file in os.listdir(self.img_dir):\n",
    "            if re.search(name + '.npy$', file):\n",
    "                img = np.load(self.img_dir + 'p_' + name + '.npy')\n",
    "                break\n",
    "                \n",
    "        # convert nodules to 1-hot\n",
    "        label = np.zeros(img.shape)\n",
    "        nodules = nodules.values\n",
    "        for ind in range(nodules.shape[0]):\n",
    "            nod = nodules[ind, :]\n",
    "            label[nod[2], nod[1], nod[0]] = 1\n",
    "        \n",
    "        # convert img, label into tensors\n",
    "        return {'img': from_numpy(img), 'label': from_numpy(label)}"
   ]
  },
  {
   "cell_type": "code",
   "execution_count": 12,
   "metadata": {},
   "outputs": [],
   "source": [
    "# ds_0 = LungsDataset('/Volumes/KaneData/processed0/meta_0.csv', \n",
    "#                     '/Volumes/KaneData/candidates_V2.csv', \n",
    "#                     '/Volumes/KaneData/processed0/')\n",
    "# dl_0 = D.DataLoader(ds_0, shuffle = True)"
   ]
  },
  {
   "cell_type": "code",
   "execution_count": 13,
   "metadata": {},
   "outputs": [],
   "source": [
    "'''\n",
    "Build optimizer, loss function family.\n",
    "'''\n",
    "\n",
    "model = UNet()\n",
    "criterion = nn.CrossEntropyLoss()\n",
    "optimizer = optim.SGD(model.parameters(), lr = 0.001)"
   ]
  },
  {
   "cell_type": "code",
   "execution_count": 14,
   "metadata": {},
   "outputs": [],
   "source": [
    "'''\n",
    "Train the model.\n",
    "'''\n",
    "\n",
    "def train(model, criterion, optimizer, data_loader):\n",
    "    for epoch in range(2):\n",
    "        running_loss = 0.0\n",
    "        \n",
    "        # currently, this code only works for batch size = 1, can change with inner for loop\n",
    "        for i_batch, batch in enumerate(data_loader): \n",
    "            tr_img = batch['img']\n",
    "            tr_label = batch['label']\n",
    "\n",
    "            optimizer.zero_grad()\n",
    "\n",
    "            output = model.forward(tr_img)\n",
    "            loss = criterion(output, tr_label)\n",
    "\n",
    "            loss.backward()\n",
    "            optimizer.step()\n",
    "            \n",
    "            running_loss += loss.item()\n",
    "        print(\"loss for epoch of the processed batch: \" + str(running_loss / len(train_data)))"
   ]
  }
 ],
 "metadata": {
  "kernelspec": {
   "display_name": "Python 3",
   "language": "python",
   "name": "python3"
  },
  "language_info": {
   "codemirror_mode": {
    "name": "ipython",
    "version": 3
   },
   "file_extension": ".py",
   "mimetype": "text/x-python",
   "name": "python",
   "nbconvert_exporter": "python",
   "pygments_lexer": "ipython3",
   "version": "3.6.8"
  }
 },
 "nbformat": 4,
 "nbformat_minor": 2
}
