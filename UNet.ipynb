{
 "cells": [
  {
   "cell_type": "code",
   "execution_count": 1,
   "metadata": {},
   "outputs": [],
   "source": [
    "import SimpleITK as sitk\n",
    "import numpy as np\n",
    "import csv\n",
    "import os\n",
    "import matplotlib.pyplot as plt\n",
    "%matplotlib inline \n",
    "from PIL import Image\n",
    "from sklearn.cluster import KMeans\n",
    "from skimage.morphology import binary_erosion, binary_dilation, binary_opening, binary_closing\n",
    "from skimage.measure import regionprops, label\n",
    "import re\n",
    "import pandas as pd\n",
    "from tempfile import TemporaryFile"
   ]
  },
  {
   "cell_type": "code",
   "execution_count": 2,
   "metadata": {},
   "outputs": [],
   "source": [
    "# load in file\n",
    "def load_img(filename):\n",
    "    itkimage = sitk.ReadImage(filename)\n",
    "    numpy_image = sitk.GetArrayFromImage(itkimage) # z, y, x...\n",
    "#     numpy_image = np.swapaxes(numpy_image, 0, 2)\n",
    "    numpy_origin = np.array(itkimage.GetOrigin()) # x, y, z...\n",
    "    numpy_spacing = np.array(itkimage.GetSpacing())\n",
    "    return numpy_image, numpy_origin, numpy_spacing\n",
    "\n",
    "# normalize method\n",
    "def normalize(img):\n",
    "    mean = np.mean(img)\n",
    "    std = np.std(img)\n",
    "    return (img - mean)/std\n",
    "\n",
    "# show distribution\n",
    "def distribution(normalize_img):\n",
    "    plt.hist(normalize_img.flatten(), bins = 200)\n",
    "    plt.show()\n",
    "\n",
    "# this one has strange distribution, not as cleanly separated\n",
    "# img, origin, spacing = load_img('/Users/kanetian7/LUNA16/data/subset0/1.3.6.1.4.1.14519.5.2.1.6279.6001.109002525524522225658609808059.mhd')\n",
    "# distribution(normalize(img))\n",
    "\n",
    "# this was the one with the slice with a black circular border, seems to not be different in 3d dist\n",
    "# img, origin, spacing = load_img('/Users/kanetian7/LUNA16/data/subset0/1.3.6.1.4.1.14519.5.2.1.6279.6001.105756658031515062000744821260.mhd')\n",
    "# distribution(normalize(img))\n",
    "\n",
    "# this was a normal one without black border\n",
    "# img, origin, spacing = load_img('/Users/kanetian7/LUNA16/data/subset0/1.3.6.1.4.1.14519.5.2.1.6279.6001.126264578931778258890371755354.mhd')\n",
    "# distribution(normalize(img))"
   ]
  },
  {
   "cell_type": "code",
   "execution_count": 3,
   "metadata": {},
   "outputs": [],
   "source": [
    "# proceed with k-means with k = 2 or k = 3, depending on if outliers exist\n",
    "def convert_binary(norm_img):\n",
    "    minimum = np.min(norm_img)\n",
    "    num_near_min = norm_img[norm_img - minimum < 0.01].shape[0]\n",
    "    total_count = norm_img.flatten().shape[0]\n",
    "    if num_near_min/total_count > 0.1:\n",
    "        print('hi3')\n",
    "        kmeans = KMeans(n_clusters = 3, random_state = 0, n_init = 2, max_iter = 5).fit(norm_img.flatten().reshape(-1, 1))\n",
    "    else:\n",
    "        print('hi2')\n",
    "        kmeans = KMeans(n_clusters = 2, random_state = 0, n_init = 1, max_iter = 1).fit(norm_img.flatten().reshape(-1, 1))\n",
    "    print('bye')\n",
    "    centers = np.sort(kmeans.cluster_centers_.flatten())\n",
    "    if centers.shape[0]==3:\n",
    "        thresh_1 = (centers[0] + centers[1]) / 2\n",
    "#         print(thresh_1)\n",
    "        thresh_2 = (centers[1] + centers[2]) / 2\n",
    "#         print(thresh_2)\n",
    "        bin_img = np.where((norm_img < thresh_2) & (norm_img > thresh_1), 1.0, 0.0)\n",
    "    else:\n",
    "        thresh = (centers[0] + centers[1]) / 2\n",
    "        bin_img = np.where(norm_img < thresh, 1.0, 0.0)\n",
    "#     plt.imshow(bin_img[int(0.5*bin_img.shape[0]), 0:512, 0:512])\n",
    "    return bin_img\n",
    "    \n",
    "# this is the noisiest image\n",
    "# img, origin, spacing = load_img('/Users/kanetian7/LUNA16/data/subset0/1.3.6.1.4.1.14519.5.2.1.6279.6001.126264578931778258890371755354.mhd')\n",
    "# bin_img = convert_binary(normalize(img))   "
   ]
  },
  {
   "cell_type": "code",
   "execution_count": 4,
   "metadata": {},
   "outputs": [],
   "source": [
    "# bi = np.copy(bin_img)\n",
    "# plt.imshow(bi[int(0.5*bi.shape[0]), 0:512, 0:512])"
   ]
  },
  {
   "cell_type": "code",
   "execution_count": 5,
   "metadata": {},
   "outputs": [],
   "source": [
    "# erode/dilate to get clean regions \n",
    "def make_regions(bin_img):\n",
    "    for s in range(bin_img.shape[0]):\n",
    "        s1 = bin_img[s,:,:]\n",
    "        s2 = binary_erosion(s1, selem = np.ones([2, 2]))\n",
    "        bin_img[s,:,:] = binary_dilation(s2, selem = np.ones([8, 8]))\n",
    "#     plt.imshow(bin_img[int(0.5*bin_img.shape[0]), 0:512, 0:512])\n",
    "    return bin_img\n",
    "    \n",
    "# x = make_regions(bi)"
   ]
  },
  {
   "cell_type": "code",
   "execution_count": 6,
   "metadata": {},
   "outputs": [],
   "source": [
    "# make the mask from the regions\n",
    "def make_mask(reg_img):\n",
    "    mask = np.zeros(reg_img.shape)\n",
    "    for s in range(reg_img.shape[0]):\n",
    "        s1 = reg_img[s,:,:]\n",
    "        props = regionprops(label(s1))\n",
    "        labels = []\n",
    "        for p in props:\n",
    "            B = p.bbox\n",
    "            if B[0] > 10 and B[2] < 500 and B[1] > 10 and B[3] < 500 and B[2] - B[0] > 50 and B[3] - B[1] > 50:\n",
    "                labels.append(p.label)\n",
    "        for l in labels:\n",
    "            mask[s, :, :] = mask[s, :, :] + np.where(label(s1) == l, 1, 0)\n",
    "#     plt.imshow(mask[int(mask.shape[0]*0.5), 0:512, 0:512])\n",
    "    return mask\n",
    "\n",
    "# m = make_mask(x)"
   ]
  },
  {
   "cell_type": "code",
   "execution_count": 7,
   "metadata": {},
   "outputs": [],
   "source": [
    "# apply the mask and normalize the img based on useful values\n",
    "def mask_on_orig(original, mask):\n",
    "    new_img = original * mask\n",
    "    \n",
    "    mean = np.mean(original[mask > 0])\n",
    "    std = np.std(original[mask > 0])\n",
    "    new_img = (new_img - mean)/std\n",
    "    new_img[mask==0] = -5 # background = mean - 5 * std before normalization, highly unlikely to interfere\n",
    "    \n",
    "#     plt.imshow(new_img[int(new_img.shape[0] * 0.5), 0:512, 0:512])\n",
    "#     plt.show()\n",
    "#     plt.hist(new_img.flatten(), bins=200)\n",
    "    \n",
    "    return new_img\n",
    "\n",
    "# img, origin, spacing = load_img('/Users/kanetian7/LUNA16/data/subset0/1.3.6.1.4.1.14519.5.2.1.6279.6001.126264578931778258890371755354.mhd')\n",
    "# mask_on_orig(img, m)"
   ]
  },
  {
   "cell_type": "code",
   "execution_count": 8,
   "metadata": {},
   "outputs": [],
   "source": [
    "# using previous methods to process through one whole image\n",
    "\n",
    "def process_img(filename):\n",
    "    img, origin, spacing = load_img(filename)\n",
    "    print(filename)\n",
    "    norm_img = normalize(img)\n",
    "    bin_img = convert_binary(norm_img)\n",
    "    reg_img = make_regions(bin_img)\n",
    "    mask = make_mask(reg_img)\n",
    "    masked_img = mask_on_orig(img, mask)\n",
    "    \n",
    "#     plt.imshow(masked_img[int(masked_img.shape[0] * 0.5), 0:512, 0:512])\n",
    "#     plt.show()\n",
    "#     plt.hist(masked_img.flatten(), bins=200)\n",
    "    \n",
    "    return masked_img, origin, spacing\n",
    "\n",
    "# process_img('/Users/kanetian7/LUNA16/data/subset0/1.3.6.1.4.1.14519.5.2.1.6279.6001.126264578931778258890371755354.mhd')"
   ]
  },
  {
   "cell_type": "code",
   "execution_count": 14,
   "metadata": {},
   "outputs": [
    {
     "name": "stdout",
     "output_type": "stream",
     "text": [
      "/Users/kanetian7/LUNA16/data/subset0/1.3.6.1.4.1.14519.5.2.1.6279.6001.124154461048929153767743874565.mhd\n",
      "hi2\n",
      "bye\n",
      "done\n",
      "/Users/kanetian7/LUNA16/data/subset0/1.3.6.1.4.1.14519.5.2.1.6279.6001.126264578931778258890371755354.mhd\n",
      "hi2\n",
      "bye\n",
      "done\n",
      "/Users/kanetian7/LUNA16/data/subset0/1.3.6.1.4.1.14519.5.2.1.6279.6001.108197895896446896160048741492.mhd\n",
      "hi3\n",
      "bye\n",
      "done\n",
      "/Users/kanetian7/LUNA16/data/subset0/1.3.6.1.4.1.14519.5.2.1.6279.6001.109002525524522225658609808059.mhd\n",
      "hi3\n",
      "bye\n",
      "done\n",
      "/Users/kanetian7/LUNA16/data/subset0/1.3.6.1.4.1.14519.5.2.1.6279.6001.122763913896761494371822656720.mhd\n",
      "hi3\n",
      "bye\n",
      "done\n",
      "/Users/kanetian7/LUNA16/data/subset0/1.3.6.1.4.1.14519.5.2.1.6279.6001.105756658031515062000744821260.mhd\n",
      "hi3\n",
      "bye\n",
      "done\n",
      "/Users/kanetian7/LUNA16/data/subset0/1.3.6.1.4.1.14519.5.2.1.6279.6001.126121460017257137098781143514.mhd\n",
      "hi3\n",
      "bye\n",
      "done\n",
      "/Users/kanetian7/LUNA16/data/subset0/1.3.6.1.4.1.14519.5.2.1.6279.6001.111172165674661221381920536987.mhd\n",
      "hi3\n",
      "bye\n",
      "done\n"
     ]
    }
   ],
   "source": [
    "# process all files with .mhd file ext in a directory, save images to a new directory\n",
    "\n",
    "def process_dir(d, out_dir, out_meta = '/Users/kanetian7/LUNA16/data/meta.csv'):\n",
    "    os.makedirs(out_dir, 0o755, exist_ok = True)\n",
    "    originsZ = []\n",
    "    originsY = []\n",
    "    originsX = []\n",
    "    spacingsZ = []\n",
    "    spacingsY = []\n",
    "    spacingsX = []\n",
    "    names = []\n",
    "    zDim = []\n",
    "    yDim = []\n",
    "    xDim = []\n",
    "    df = pd.read_csv(out_meta)\n",
    "    for file in os.listdir(d):\n",
    "        if re.search('.mhd$', file):\n",
    "            img, origin, spacing = process_img(d + file)\n",
    "            img.tofile(out_dir + 'p_' + re.split('.mhd$', file)[0] + '.txt', sep = ',')\n",
    "            originsZ.append(origin[2])\n",
    "            originsY.append(origin[1])\n",
    "            originsX.append(origin[0])\n",
    "            spacingsZ.append(spacing[2])\n",
    "            spacingsY.append(spacing[1])\n",
    "            spacingsX.append(spacing[0])\n",
    "            zDim.append(img.shape[0])\n",
    "            yDim.append(img.shape[1])\n",
    "            xDim.append(img.shape[2])\n",
    "            names.append(re.split('.mhd$', file)[0])\n",
    "            print('done')\n",
    "    new = pd.DataFrame({'Name': names, 'OriginZ': originsZ, 'OriginY': originsY, 'OriginX': originsX,\n",
    "                        'SpacingZ': spacingsZ, 'SpacingY': spacingsY, 'SpacingX': spacingsX, 'zDim': zDim, 'yDim': yDim, 'xDim': xDim})\n",
    "    df = pd.concat([df, new], axis = 0).reset_index(drop=True)\n",
    "    df.to_csv(out_meta)\n",
    "    \n",
    "process_dir('/Users/kanetian7/LUNA16/data/subset0/', '/Users/kanetian7/LUNA16/data/processed0/')"
   ]
  },
  {
   "cell_type": "code",
   "execution_count": 44,
   "metadata": {},
   "outputs": [],
   "source": [
    "# img, o, s = load_img('/Users/kanetian7/LUNA16/data/processed0/p_1.3.6.1.4.1.14519.5.2.1.6279.6001.124154461048929153767743874565.mhd')\n",
    "# print(o)\n",
    "# np.array([ [[1.12142412, 2, 3], [4., 5.124121, 6]], [[1, 2, 3], [4, 9, 0]] ]).tofile('/Users/kanetian7/LUNA16/a.txt', sep = ',')\n",
    "x = np.fromfile('/Users/kanetian7/LUNA16/data/processed0/p_1.3.6.1.4.1.14519.5.2.1.6279.6001.126264578931778258890371755354.txt', sep = ',')"
   ]
  },
  {
   "cell_type": "code",
   "execution_count": 45,
   "metadata": {},
   "outputs": [
    {
     "name": "stdout",
     "output_type": "stream",
     "text": [
      "672\n"
     ]
    }
   ],
   "source": [
    "meta = pd.read_csv('/Users/kanetian7/LUNA16/data/meta.csv')\n",
    "zDim = meta[meta['Name']=='1.3.6.1.4.1.14519.5.2.1.6279.6001.126264578931778258890371755354']['zDim'].iloc[0]\n",
    "print(zDim)"
   ]
  },
  {
   "cell_type": "code",
   "execution_count": 46,
   "metadata": {},
   "outputs": [
    {
     "data": {
      "text/plain": [
       "<matplotlib.image.AxesImage at 0x1c2f519860>"
      ]
     },
     "execution_count": 46,
     "metadata": {},
     "output_type": "execute_result"
    },
    {
     "data": {
      "image/png": "[encoded data removed]",
      "text/plain": [
       "<Figure size 432x288 with 1 Axes>"
      ]
     },
     "metadata": {},
     "output_type": "display_data"
    }
   ],
   "source": [
    "x = x.reshape((zDim, 512, 512))\n",
    "img = x[int(zDim * 0.5), 0:512, 0:512]\n",
    "plt.imshow(img)"
   ]
  },
  {
   "cell_type": "code",
   "execution_count": null,
   "metadata": {},
   "outputs": [],
   "source": []
  }
 ],
 "metadata": {
  "kernelspec": {
   "display_name": "Python 3",
   "language": "python",
   "name": "python3"
  },
  "language_info": {
   "codemirror_mode": {
    "name": "ipython",
    "version": 3
   },
   "file_extension": ".py",
   "mimetype": "text/x-python",
   "name": "python",
   "nbconvert_exporter": "python",
   "pygments_lexer": "ipython3",
   "version": "3.6.5"
  }
 },
 "nbformat": 4,
 "nbformat_minor": 2
}
