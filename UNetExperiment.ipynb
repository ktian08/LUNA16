{
 "cells": [
  {
   "cell_type": "code",
   "execution_count": null,
   "metadata": {},
   "outputs": [],
   "source": [
    "from UNetTraining import load_data, train, evaluate\n",
    "from UNetModel import UNet\n",
    "import torch\n",
    "from torch import nn, optim\n",
    "import matplotlib.pyplot as plt\n",
    "%matplotlib inline"
   ]
  },
  {
   "cell_type": "code",
   "execution_count": null,
   "metadata": {},
   "outputs": [],
   "source": [
    "fold_dataloaders = load_data('/Volumes/KaneData/candidates_V2.csv', \n",
    "                             '/Volumes/KaneData/processed0/', \n",
    "                             '/Volumes/KaneData/processed1/', \n",
    "                             '/Volumes/KaneData/processed2/', \n",
    "                             '/Volumes/KaneData/processed3/',\n",
    "                             '/Volumes/KaneData/processed4/', \n",
    "                             '/Volumes/KaneData/processed5/',\n",
    "                             '/Volumes/KaneData/processed6/', \n",
    "                             '/Volumes/KaneData/processed7/',\n",
    "                             '/Volumes/KaneData/processed8/', \n",
    "                             load_training = True, shuffle = True, batch_size = 1)"
   ]
  },
  {
   "cell_type": "code",
   "execution_count": null,
   "metadata": {},
   "outputs": [],
   "source": [
    "device = torch.device(\"cuda:0\" if torch.cuda.is_available() else \"cpu\")\n",
    "print(device)"
   ]
  },
  {
   "cell_type": "code",
   "execution_count": null,
   "metadata": {},
   "outputs": [],
   "source": [
    "'''\n",
    "Build optimizer, loss function family.\n",
    "'''\n",
    "model = UNet().to(device)\n",
    "criterion = nn.CrossEntropyLoss(reduction = 'sum')\n",
    "optimizer = optim.SGD(model.parameters(), lr = 1e-8, momentum = 0.9, weight_decay = 0.5)"
   ]
  },
  {
   "cell_type": "code",
   "execution_count": null,
   "metadata": {},
   "outputs": [],
   "source": [
    "loss = train(model, criterion, optimizer, device, fold_dataloaders, num_epoch = 1, cv_fold = 0)"
   ]
  },
  {
   "cell_type": "code",
   "execution_count": null,
   "metadata": {},
   "outputs": [],
   "source": []
  }
 ],
 "metadata": {
  "kernelspec": {
   "display_name": "Python 3",
   "language": "python",
   "name": "python3"
  },
  "language_info": {
   "codemirror_mode": {
    "name": "ipython",
    "version": 3
   },
   "file_extension": ".py",
   "mimetype": "text/x-python",
   "name": "python",
   "nbconvert_exporter": "python",
   "pygments_lexer": "ipython3",
   "version": "3.6.8"
  }
 },
 "nbformat": 4,
 "nbformat_minor": 2
}
